{
 "cells": [
  {
   "cell_type": "markdown",
   "id": "ab6f2f76-d8e1-4b3d-9348-2120c1787aeb",
   "metadata": {},
   "source": [
    "# Handwritten Digit Recognition Model Execution"
   ]
  },
  {
   "cell_type": "code",
   "execution_count": 1,
   "id": "cd50b1dc-bf5d-4a96-be01-dc928d2a921c",
   "metadata": {},
   "outputs": [
    {
     "name": "stdout",
     "output_type": "stream",
     "text": [
      "pygame 2.6.0 (SDL 2.28.4, Python 3.12.4)\n",
      "Hello from the pygame community. https://www.pygame.org/contribute.html\n"
     ]
    }
   ],
   "source": [
    "import numpy as np\n",
    "import pandas as pd\n",
    "import matplotlib.pyplot as plt\n",
    "import tensorflow as tf\n",
    "import keras\n",
    "import pygame\n",
    "import cv2"
   ]
  },
  {
   "cell_type": "code",
   "execution_count": 2,
   "id": "88e7cb04-3633-4709-bc2c-509554007421",
   "metadata": {},
   "outputs": [],
   "source": [
    "model = keras.models.load_model(\"handwritten_digit_recognition.keras\")"
   ]
  },
  {
   "cell_type": "code",
   "execution_count": 7,
   "id": "d6988379-27fc-4794-8549-3c76f871f661",
   "metadata": {},
   "outputs": [
    {
     "name": "stdout",
     "output_type": "stream",
     "text": [
      "Drawing saved as drawing.png\n"
     ]
    }
   ],
   "source": [
    "pygame.init()\n",
    "\n",
    "# Set the canvas size to 28x28 pixels\n",
    "canvas_size = 500\n",
    "screen = pygame.display.set_mode((canvas_size, canvas_size))\n",
    "\n",
    "# Set the title of the window\n",
    "pygame.display.set_caption(\"Drawing Canvas\")\n",
    "\n",
    "# Set the background color to black\n",
    "screen.fill((0, 0, 0))\n",
    "\n",
    "# Set drawing color to white\n",
    "draw_color = (255, 255, 255)\n",
    "brush_size = 10\n",
    "\n",
    "# Function to save the drawing as an image\n",
    "def save_drawing(surface, filename):\n",
    "    pygame.image.save(surface, filename)\n",
    "\n",
    "# Main loop\n",
    "running = True\n",
    "while running:\n",
    "    for event in pygame.event.get():\n",
    "        if event.type == pygame.QUIT:\n",
    "            running = False\n",
    "\n",
    "        # Drawing with mouse\n",
    "        if pygame.mouse.get_pressed()[0]:\n",
    "            mouse_pos = pygame.mouse.get_pos()\n",
    "            pygame.draw.circle(screen, draw_color, mouse_pos, brush_size)\n",
    "\n",
    "        # Save the image when the user presses the 'S' key\n",
    "        if event.type == pygame.KEYDOWN:\n",
    "            if event.key == pygame.K_s:\n",
    "                save_drawing(screen, \"drawing.png\")\n",
    "                print(\"Drawing saved as drawing.png\")\n",
    "    \n",
    "    # Update the display\n",
    "    pygame.display.flip()\n",
    "\n",
    "# Quit pygame\n",
    "pygame.quit()"
   ]
  },
  {
   "cell_type": "code",
   "execution_count": 8,
   "id": "79c4b3bd-ab2d-437c-8038-bcfae9adc17e",
   "metadata": {},
   "outputs": [
    {
     "name": "stdout",
     "output_type": "stream",
     "text": [
      "\u001b[1m1/1\u001b[0m \u001b[32m━━━━━━━━━━━━━━━━━━━━\u001b[0m\u001b[37m\u001b[0m \u001b[1m0s\u001b[0m 61ms/step\n",
      "2\n"
     ]
    },
    {
     "data": {
      "image/png": "[encoded data removed]",
      "text/plain": [
       "<Figure size 640x480 with 1 Axes>"
      ]
     },
     "metadata": {},
     "output_type": "display_data"
    }
   ],
   "source": [
    "# Execution\n",
    "img1 = cv2.imread('drawing.png')\n",
    "IMG_SIZE = 28\n",
    "plt.imshow(img1)\n",
    "gray1 = cv2.cvtColor(img1, cv2.COLOR_BGR2GRAY)\n",
    "resized1 = cv2.resize(gray1, (28,28), interpolation = cv2.INTER_AREA)\n",
    "newing1 = tf.keras.utils.normalize(resized1, axis=1) # 0 to 1 Scaling\n",
    "newing1 = np.array(newing1).reshape(-1, IMG_SIZE, IMG_SIZE, 1) # kernel operation of convolution layer,\n",
    "plt.imshow(resized1)\n",
    "predictions1 = model.predict(newing1)\n",
    "print(np.argmax(predictions1))"
   ]
  },
  {
   "cell_type": "code",
   "execution_count": null,
   "id": "8ac8e32e-d627-4f8e-8ef4-a805c33b27f6",
   "metadata": {},
   "outputs": [],
   "source": []
  }
 ],
 "metadata": {
  "kernelspec": {
   "display_name": "Python 3 (ipykernel)",
   "language": "python",
   "name": "python3"
  },
  "language_info": {
   "codemirror_mode": {
    "name": "ipython",
    "version": 3
   },
   "file_extension": ".py",
   "mimetype": "text/x-python",
   "name": "python",
   "nbconvert_exporter": "python",
   "pygments_lexer": "ipython3",
   "version": "3.12.4"
  }
 },
 "nbformat": 4,
 "nbformat_minor": 5
}
